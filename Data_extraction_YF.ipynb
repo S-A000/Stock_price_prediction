{
 "cells": [
  {
   "cell_type": "code",
   "execution_count": 2,
   "id": "97d0f331-430d-4177-8946-594a2a5036b8",
   "metadata": {},
   "outputs": [
    {
     "name": "stdout",
     "output_type": "stream",
     "text": [
      "Collecting yfinance\n",
      "  Using cached yfinance-0.2.43-py2.py3-none-any.whl.metadata (11 kB)\n",
      "Requirement already satisfied: pandas>=1.3.0 in c:\\users\\acer\\appdata\\local\\programs\\python\\python312\\lib\\site-packages (from yfinance) (2.2.2)\n",
      "Requirement already satisfied: numpy>=1.16.5 in c:\\users\\acer\\appdata\\local\\programs\\python\\python312\\lib\\site-packages (from yfinance) (1.26.4)\n",
      "Requirement already satisfied: requests>=2.31 in c:\\users\\acer\\appdata\\local\\programs\\python\\python312\\lib\\site-packages (from yfinance) (2.32.3)\n",
      "Collecting multitasking>=0.0.7 (from yfinance)\n",
      "  Downloading multitasking-0.0.11-py3-none-any.whl.metadata (5.5 kB)\n",
      "Collecting lxml>=4.9.1 (from yfinance)\n",
      "  Downloading lxml-5.3.0-cp312-cp312-win_amd64.whl.metadata (3.9 kB)\n",
      "Requirement already satisfied: platformdirs>=2.0.0 in c:\\users\\acer\\appdata\\local\\programs\\python\\python312\\lib\\site-packages (from yfinance) (4.2.2)\n",
      "Requirement already satisfied: pytz>=2022.5 in c:\\users\\acer\\appdata\\local\\programs\\python\\python312\\lib\\site-packages (from yfinance) (2024.1)\n",
      "Collecting frozendict>=2.3.4 (from yfinance)\n",
      "  Downloading frozendict-2.4.4-py312-none-any.whl.metadata (23 kB)\n",
      "Collecting peewee>=3.16.2 (from yfinance)\n",
      "  Downloading peewee-3.17.6.tar.gz (3.0 MB)\n",
      "     ---------------------------------------- 0.0/3.0 MB ? eta -:--:--\n",
      "     ---------------------------------------- 0.0/3.0 MB ? eta -:--:--\n",
      "     --- ------------------------------------ 0.3/3.0 MB ? eta -:--:--\n",
      "     ------- -------------------------------- 0.5/3.0 MB 1.3 MB/s eta 0:00:02\n",
      "     ---------- ----------------------------- 0.8/3.0 MB 1.2 MB/s eta 0:00:02\n",
      "     -------------- ------------------------- 1.0/3.0 MB 1.3 MB/s eta 0:00:02\n",
      "     ----------------- ---------------------- 1.3/3.0 MB 1.4 MB/s eta 0:00:02\n",
      "     ----------------- ---------------------- 1.3/3.0 MB 1.4 MB/s eta 0:00:02\n",
      "     ----------------- ---------------------- 1.3/3.0 MB 1.4 MB/s eta 0:00:02\n",
      "     ----------------- ---------------------- 1.3/3.0 MB 1.4 MB/s eta 0:00:02\n",
      "     --------------------- ------------------ 1.6/3.0 MB 769.7 kB/s eta 0:00:02\n",
      "     --------------------- ------------------ 1.6/3.0 MB 769.7 kB/s eta 0:00:02\n",
      "     --------------------- ------------------ 1.6/3.0 MB 769.7 kB/s eta 0:00:02\n",
      "     --------------------- ------------------ 1.6/3.0 MB 769.7 kB/s eta 0:00:02\n",
      "     --------------------- ------------------ 1.6/3.0 MB 769.7 kB/s eta 0:00:02\n",
      "     --------------------- ------------------ 1.6/3.0 MB 769.7 kB/s eta 0:00:02\n",
      "     --------------------- ------------------ 1.6/3.0 MB 769.7 kB/s eta 0:00:02\n",
      "     --------------------- ------------------ 1.6/3.0 MB 769.7 kB/s eta 0:00:02\n",
      "     --------------------- ------------------ 1.6/3.0 MB 769.7 kB/s eta 0:00:02\n",
      "     ------------------------ --------------- 1.8/3.0 MB 449.4 kB/s eta 0:00:03\n",
      "     ---------------------------- ----------- 2.1/3.0 MB 475.5 kB/s eta 0:00:02\n",
      "     ------------------------------- -------- 2.4/3.0 MB 518.2 kB/s eta 0:00:02\n",
      "     ----------------------------------- ---- 2.6/3.0 MB 557.2 kB/s eta 0:00:01\n",
      "     ---------------------------------------  2.9/3.0 MB 588.7 kB/s eta 0:00:01\n",
      "     ---------------------------------------- 3.0/3.0 MB 590.1 kB/s eta 0:00:00\n",
      "  Installing build dependencies: started\n",
      "  Installing build dependencies: finished with status 'done'\n",
      "  Getting requirements to build wheel: started\n",
      "  Getting requirements to build wheel: finished with status 'done'\n",
      "  Preparing metadata (pyproject.toml): started\n",
      "  Preparing metadata (pyproject.toml): finished with status 'done'\n",
      "Requirement already satisfied: beautifulsoup4>=4.11.1 in c:\\users\\acer\\appdata\\local\\programs\\python\\python312\\lib\\site-packages (from yfinance) (4.12.3)\n",
      "Collecting html5lib>=1.1 (from yfinance)\n",
      "  Downloading html5lib-1.1-py2.py3-none-any.whl.metadata (16 kB)\n",
      "Requirement already satisfied: soupsieve>1.2 in c:\\users\\acer\\appdata\\local\\programs\\python\\python312\\lib\\site-packages (from beautifulsoup4>=4.11.1->yfinance) (2.5)\n",
      "Requirement already satisfied: six>=1.9 in c:\\users\\acer\\appdata\\local\\programs\\python\\python312\\lib\\site-packages (from html5lib>=1.1->yfinance) (1.16.0)\n",
      "Requirement already satisfied: webencodings in c:\\users\\acer\\appdata\\local\\programs\\python\\python312\\lib\\site-packages (from html5lib>=1.1->yfinance) (0.5.1)\n",
      "Requirement already satisfied: python-dateutil>=2.8.2 in c:\\users\\acer\\appdata\\local\\programs\\python\\python312\\lib\\site-packages (from pandas>=1.3.0->yfinance) (2.9.0.post0)\n",
      "Requirement already satisfied: tzdata>=2022.7 in c:\\users\\acer\\appdata\\local\\programs\\python\\python312\\lib\\site-packages (from pandas>=1.3.0->yfinance) (2024.1)\n",
      "Requirement already satisfied: charset-normalizer<4,>=2 in c:\\users\\acer\\appdata\\local\\programs\\python\\python312\\lib\\site-packages (from requests>=2.31->yfinance) (3.3.2)\n",
      "Requirement already satisfied: idna<4,>=2.5 in c:\\users\\acer\\appdata\\local\\programs\\python\\python312\\lib\\site-packages (from requests>=2.31->yfinance) (3.7)\n",
      "Requirement already satisfied: urllib3<3,>=1.21.1 in c:\\users\\acer\\appdata\\local\\programs\\python\\python312\\lib\\site-packages (from requests>=2.31->yfinance) (2.2.2)\n",
      "Requirement already satisfied: certifi>=2017.4.17 in c:\\users\\acer\\appdata\\local\\programs\\python\\python312\\lib\\site-packages (from requests>=2.31->yfinance) (2024.6.2)\n",
      "Downloading yfinance-0.2.43-py2.py3-none-any.whl (84 kB)\n",
      "Downloading frozendict-2.4.4-py312-none-any.whl (16 kB)\n",
      "Downloading html5lib-1.1-py2.py3-none-any.whl (112 kB)\n",
      "Downloading lxml-5.3.0-cp312-cp312-win_amd64.whl (3.8 MB)\n",
      "   ---------------------------------------- 0.0/3.8 MB ? eta -:--:--\n",
      "   ---------------------------------------- 0.0/3.8 MB ? eta -:--:--\n",
      "   ---------------------------------------- 0.0/3.8 MB ? eta -:--:--\n",
      "   ---------------------------------------- 0.0/3.8 MB ? eta -:--:--\n",
      "   -- ------------------------------------- 0.3/3.8 MB ? eta -:--:--\n",
      "   ----- ---------------------------------- 0.5/3.8 MB 1.1 MB/s eta 0:00:03\n",
      "   -------- ------------------------------- 0.8/3.8 MB 1.0 MB/s eta 0:00:03\n",
      "   ---------- ----------------------------- 1.0/3.8 MB 1.1 MB/s eta 0:00:03\n",
      "   ------------- -------------------------- 1.3/3.8 MB 1.2 MB/s eta 0:00:03\n",
      "   ---------------- ----------------------- 1.6/3.8 MB 1.1 MB/s eta 0:00:03\n",
      "   ---------------- ----------------------- 1.6/3.8 MB 1.1 MB/s eta 0:00:03\n",
      "   ------------------- -------------------- 1.8/3.8 MB 1.1 MB/s eta 0:00:02\n",
      "   --------------------- ------------------ 2.1/3.8 MB 1.0 MB/s eta 0:00:02\n",
      "   --------------------- ------------------ 2.1/3.8 MB 1.0 MB/s eta 0:00:02\n",
      "   ------------------------ --------------- 2.4/3.8 MB 951.5 kB/s eta 0:00:02\n",
      "   ------------------------ --------------- 2.4/3.8 MB 951.5 kB/s eta 0:00:02\n",
      "   --------------------------- ------------ 2.6/3.8 MB 893.3 kB/s eta 0:00:02\n",
      "   ------------------------------ --------- 2.9/3.8 MB 901.8 kB/s eta 0:00:02\n",
      "   ------------------------------ --------- 2.9/3.8 MB 901.8 kB/s eta 0:00:02\n",
      "   -------------------------------- ------- 3.1/3.8 MB 918.0 kB/s eta 0:00:01\n",
      "   ----------------------------------- ---- 3.4/3.8 MB 923.3 kB/s eta 0:00:01\n",
      "   ---------------------------------------- 3.8/3.8 MB 955.8 kB/s eta 0:00:00\n",
      "Downloading multitasking-0.0.11-py3-none-any.whl (8.5 kB)\n",
      "Building wheels for collected packages: peewee\n",
      "  Building wheel for peewee (pyproject.toml): started\n",
      "  Building wheel for peewee (pyproject.toml): finished with status 'done'\n",
      "  Created wheel for peewee: filename=peewee-3.17.6-py3-none-any.whl size=138939 sha256=6abafcfb0426a5bcb77c5625e478ad4319c56bd1206301ae662bce257e930080\n",
      "  Stored in directory: c:\\users\\acer\\appdata\\local\\pip\\cache\\wheels\\a6\\5e\\0f\\8319805c4115320e0d3e8fb5799b114a2e4c4a3d6c7e523b06\n",
      "Successfully built peewee\n",
      "Installing collected packages: peewee, multitasking, lxml, html5lib, frozendict, yfinance\n",
      "Successfully installed frozendict-2.4.4 html5lib-1.1 lxml-5.3.0 multitasking-0.0.11 peewee-3.17.6 yfinance-0.2.43\n",
      "Note: you may need to restart the kernel to use updated packages.\n"
     ]
    }
   ],
   "source": [
    "pip install yfinance "
   ]
  },
  {
   "cell_type": "code",
   "execution_count": 3,
   "id": "50d71025-8d6f-4bed-b7bb-2b11330f0dd8",
   "metadata": {},
   "outputs": [],
   "source": [
    "import yfinance as yf"
   ]
  },
  {
   "cell_type": "code",
   "execution_count": 4,
   "id": "3c3a5d2c-32a6-45d4-b018-ef4425673f8c",
   "metadata": {},
   "outputs": [
    {
     "name": "stderr",
     "output_type": "stream",
     "text": [
      "[*********************100%***********************]  1 of 1 completed"
     ]
    },
    {
     "name": "stdout",
     "output_type": "stream",
     "text": [
      "                 Open       High        Low      Close  Adj Close    Volume\n",
      "Date                                                                       \n",
      "2018-01-02  52.417000  53.347000  52.261501  53.250000  53.119549  24752000\n",
      "2018-01-03  53.215500  54.314499  53.160500  54.124001  53.991409  28604000\n",
      "2018-01-04  54.400002  54.678501  54.200100  54.320000  54.186924  20092000\n",
      "2018-01-05  54.700001  55.212502  54.599998  55.111500  54.976486  25582000\n",
      "2018-01-08  55.111500  55.563499  55.081001  55.347000  55.211411  20952000\n"
     ]
    },
    {
     "name": "stderr",
     "output_type": "stream",
     "text": [
      "\n"
     ]
    }
   ],
   "source": [
    "stock_symbol = 'GOOG'\n",
    "\n",
    "stock_data = yf.download(stock_symbol, start='2018-01-01', end='2023-01-01')\n",
    "\n",
    "# Display the first few rows of the data\n",
    "print(stock_data.head())\n",
    "\n",
    "# Save the data to a CSV file\n",
    "stock_data.to_csv(f'{stock_symbol}_historical_data.csv')"
   ]
  },
  {
   "cell_type": "code",
   "execution_count": 9,
   "id": "ca27c631-fed7-4549-8a4c-9bcc12d667ff",
   "metadata": {},
   "outputs": [
    {
     "name": "stdout",
     "output_type": "stream",
     "text": [
      "Data saved to C:\\Users\\ACER\\OneDrive/GOOG_historical_data.csv.\n"
     ]
    }
   ],
   "source": [
    "\n",
    "# Specify the path where you want to save the CSV file\n",
    "# Replace this with your actual path\n",
    "path = r'C:\\Users\\ACER\\OneDrive/GOOG_historical_data.csv'  # Change this to your preferred folder\n",
    "\n",
    "# Save the data to the specified path\n",
    "stock_data.to_csv(path)\n",
    "\n",
    "print(f\"Data saved to {path}.\")\n"
   ]
  },
  {
   "cell_type": "code",
   "execution_count": 6,
   "id": "41d55988-b348-434d-9b1f-d8447cc56fee",
   "metadata": {},
   "outputs": [
    {
     "data": {
      "text/plain": [
       "(                 Open       High        Low      Close  Adj Close    Volume\n",
       " Date                                                                       \n",
       " 2018-01-02  52.417000  53.347000  52.261501  53.250000  53.119549  24752000\n",
       " 2018-01-03  53.215500  54.314499  53.160500  54.124001  53.991409  28604000\n",
       " 2018-01-04  54.400002  54.678501  54.200100  54.320000  54.186924  20092000\n",
       " 2018-01-05  54.700001  55.212502  54.599998  55.111500  54.976486  25582000\n",
       " 2018-01-08  55.111500  55.563499  55.081001  55.347000  55.211411  20952000,\n",
       "                  Open       High        Low      Close  Adj Close    Volume\n",
       " Date                                                                       \n",
       " 2022-12-23  87.620003  90.099998  87.620003  89.809998  89.589981  17815000\n",
       " 2022-12-27  89.309998  89.500000  87.535004  87.930000  87.714592  15470900\n",
       " 2022-12-28  87.500000  88.519997  86.370003  86.459999  86.248192  17879600\n",
       " 2022-12-29  87.029999  89.364998  86.989998  88.949997  88.732086  18280700\n",
       " 2022-12-30  87.364998  88.830002  87.029999  88.730003  88.512634  19190300)"
      ]
     },
     "execution_count": 6,
     "metadata": {},
     "output_type": "execute_result"
    }
   ],
   "source": [
    "stock_data.head(), stock_data.tail()"
   ]
  },
  {
   "cell_type": "code",
   "execution_count": 10,
   "id": "20946d0f-d330-4a53-ae91-c4eb6048f094",
   "metadata": {},
   "outputs": [
    {
     "name": "stderr",
     "output_type": "stream",
     "text": [
      "[*********************100%***********************]  1 of 1 completed"
     ]
    },
    {
     "name": "stdout",
     "output_type": "stream",
     "text": [
      "                  Open        High         Low       Close   Adj Close  \\\n",
      "Date                                                                     \n",
      "2023-02-01   99.739998  102.190002   98.419998  101.430000  101.181519   \n",
      "2023-02-02  106.790001  108.820000  106.540001  108.800003  108.533463   \n",
      "2023-02-03  103.510002  108.019997  103.300003  105.220001  104.962234   \n",
      "2023-02-06  102.684998  104.699997  102.209999  103.470001  103.216522   \n",
      "2023-02-07  103.629997  108.669998  103.547997  108.040001  107.775330   \n",
      "\n",
      "              Volume  \n",
      "Date                  \n",
      "2023-02-01  26392600  \n",
      "2023-02-02  46622600  \n",
      "2023-02-03  36823400  \n",
      "2023-02-06  25573000  \n",
      "2023-02-07  33738800  \n"
     ]
    },
    {
     "name": "stderr",
     "output_type": "stream",
     "text": [
      "\n"
     ]
    }
   ],
   "source": [
    "stock_symbol = 'GOOG'\n",
    "\n",
    "stock_data = yf.download(stock_symbol, start='2023-02-01', end='2024-05-01')\n",
    "\n",
    "# Display the first few rows of the data\n",
    "print(stock_data.head())\n",
    "\n",
    "# Save the data to a CSV file\n",
    "stock_data.to_csv(f'{stock_symbol}_historical_data.csv')"
   ]
  },
  {
   "cell_type": "code",
   "execution_count": 11,
   "id": "5206ea3d-d521-4535-ac03-90e94a8853f2",
   "metadata": {},
   "outputs": [
    {
     "name": "stdout",
     "output_type": "stream",
     "text": [
      "Data saved to C:\\Users\\ACER\\OneDrive/GOOG_historical_data.csv.\n"
     ]
    }
   ],
   "source": [
    "\n",
    "# Specify the path where you want to save the CSV file\n",
    "# Replace this with your actual path\n",
    "path = r'C:\\Users\\ACER\\OneDrive/GOOG_historical_data.csv'  # Change this to your preferred folder\n",
    "\n",
    "# Save the data to the specified path\n",
    "stock_data.to_csv(path)\n",
    "\n",
    "print(f\"Data saved to {path}.\")\n"
   ]
  }
 ],
 "metadata": {
  "kernelspec": {
   "display_name": "Python 3 (ipykernel)",
   "language": "python",
   "name": "python3"
  },
  "language_info": {
   "codemirror_mode": {
    "name": "ipython",
    "version": 3
   },
   "file_extension": ".py",
   "mimetype": "text/x-python",
   "name": "python",
   "nbconvert_exporter": "python",
   "pygments_lexer": "ipython3",
   "version": "3.12.4"
  }
 },
 "nbformat": 4,
 "nbformat_minor": 5
}
